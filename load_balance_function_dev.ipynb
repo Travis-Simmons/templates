{
 "cells": [
  {
   "cell_type": "code",
   "execution_count": 3,
   "metadata": {},
   "outputs": [],
   "source": [
    "node_details = {\n",
    "    'cores' :48,\n",
    "    'ram' : 128\n",
    "}\n",
    "\n",
    "job_details = {\n",
    "    'partition': 'ceewater_cjgleason-cpu',\n",
    "    'number_things_to_process':50,\n",
    "    'nodes':1,\n",
    "    'cores':5,\n",
    "    'ram':5,\n",
    "    'time': 10000,\n",
    "    'name': 'confluence-metroman',\n",
    "    'run_command': 'python3 slurm_run_module.py -n metroman -e ${SLURM_ARRAY_TASK_ID}'\n",
    "}\n",
    "\n"
   ]
  },
  {
   "cell_type": "code",
   "execution_count": 4,
   "metadata": {},
   "outputs": [
    {
     "name": "stdout",
     "output_type": "stream",
     "text": [
      "25.6 9.6\n"
     ]
    }
   ],
   "source": [
    "\n",
    "\n",
    "def construct_sh_dict(node_details, job_details):\n",
    "\n",
    "    ram_limited = False\n",
    "    cpu_limited = False\n",
    "\n",
    "    sh_dict = {\n",
    "        'partition': job_details['partition'],\n",
    "        'nodes': job_details['nodes'],\n",
    "        'ntasks-per-node':1,\n",
    "        'cpus-per-task':job_details['cores'],\n",
    "        'mem':str(job_details['ram'])+'G',\n",
    "        'time': job_details['time'],\n",
    "        'job-name': job_details['name'],\n",
    "        'array': '0-' + str(job_details['number_things_to_process']),\n",
    "        'run_command': job_details['run_command']\n",
    "\n",
    "    }\n",
    "\n",
    "    resources_available = {\n",
    "        'cores': node_details['cores'] * job_details['nodes'],\n",
    "        'ram': node_details['ram'] * job_details['nodes']\n",
    "    }\n",
    "\n",
    "    ram_constraint = resources_available['ram']/job_details['ram']\n",
    "    cpu_constraint = resources_available['cores']/job_details['cores']\n",
    "    print(ram_constraint, cpu_constraint)\n",
    "\n",
    "    if ram_constraint > cpu_constraint:\n",
    "        cpu_limited = True\n",
    "\n",
    "    else:\n",
    "        ram_limited = True\n",
    "\n",
    "    if cpu_limited:\n",
    "        array_mod = cpu_constraint\n",
    "    \n",
    "    if ram_limited:\n",
    "        array_mod = ram_constraint\n",
    "\n",
    "    if array_mod < job_details['number_things_to_process']:\n",
    "        sh_dict['array'] += f'%{str(int(array_mod))}'\n",
    "\n",
    "    return sh_dict\n",
    "\n",
    "def create_slurm_script(node_details=node_details, job_details=job_details):\n",
    "    sh_dict = construct_sh_dict(node_details=node_details, job_details=job_details)\n",
    "    file = open('items.sh','w')\n",
    "    file.write('#!/bin/bash \\n')\n",
    "    file.write('#SBATCH -o ./Report/output.%a.out \\n')\n",
    "\n",
    "    for item in sh_dict:\n",
    "        if item != 'run_command':\n",
    "            file.write(f'#SBATCH --{item}={sh_dict[item]} \\n')\n",
    "        else:\n",
    "            file.write('\\nmodule load singularity \\n')\n",
    "            file.write(f'{sh_dict[item]}')\n",
    "    file.close()\n",
    "\n",
    "\n",
    "create_slurm_script(node_details=node_details, job_details=job_details)\n"
   ]
  },
  {
   "cell_type": "code",
   "execution_count": null,
   "metadata": {},
   "outputs": [],
   "source": []
  },
  {
   "cell_type": "code",
   "execution_count": null,
   "metadata": {},
   "outputs": [],
   "source": []
  }
 ],
 "metadata": {
  "kernelspec": {
   "display_name": "Python (4.8.3-jupyterhub-stable) *",
   "language": "python",
   "name": "conda-env-4.8.3-jupyterhub-stable-py"
  },
  "language_info": {
   "codemirror_mode": {
    "name": "ipython",
    "version": 3
   },
   "file_extension": ".py",
   "mimetype": "text/x-python",
   "name": "python",
   "nbconvert_exporter": "python",
   "pygments_lexer": "ipython3",
   "version": "3.10.4"
  },
  "vscode": {
   "interpreter": {
    "hash": "0ba854cefeea420105352005a7fd47290ef8212ad72b2335f23a5c2f1b863bf6"
   }
  }
 },
 "nbformat": 4,
 "nbformat_minor": 4
}
